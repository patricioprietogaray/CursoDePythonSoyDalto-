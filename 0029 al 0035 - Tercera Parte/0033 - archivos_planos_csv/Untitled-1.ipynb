{
 "cells": [
  {
   "cell_type": "code",
   "execution_count": 1,
   "metadata": {},
   "outputs": [
    {
     "data": {
      "text/html": [
       "<div>\n",
       "<style scoped>\n",
       "    .dataframe tbody tr th:only-of-type {\n",
       "        vertical-align: middle;\n",
       "    }\n",
       "\n",
       "    .dataframe tbody tr th {\n",
       "        vertical-align: top;\n",
       "    }\n",
       "\n",
       "    .dataframe thead th {\n",
       "        text-align: right;\n",
       "    }\n",
       "</style>\n",
       "<table border=\"1\" class=\"dataframe\">\n",
       "  <thead>\n",
       "    <tr style=\"text-align: right;\">\n",
       "      <th></th>\n",
       "      <th>nombre</th>\n",
       "      <th>apellido</th>\n",
       "      <th>edad</th>\n",
       "    </tr>\n",
       "  </thead>\n",
       "  <tbody>\n",
       "    <tr>\n",
       "      <th>0</th>\n",
       "      <td>Patricio Sebastian</td>\n",
       "      <td>Prieto Garay</td>\n",
       "      <td>48</td>\n",
       "    </tr>\n",
       "    <tr>\n",
       "      <th>1</th>\n",
       "      <td>Maria de las Mercedes</td>\n",
       "      <td>Rimoli Echarren</td>\n",
       "      <td>44</td>\n",
       "    </tr>\n",
       "    <tr>\n",
       "      <th>2</th>\n",
       "      <td>Pepe</td>\n",
       "      <td>Argento</td>\n",
       "      <td>58</td>\n",
       "    </tr>\n",
       "  </tbody>\n",
       "</table>\n",
       "</div>"
      ],
      "text/plain": [
       "                  nombre          apellido  edad\n",
       "0     Patricio Sebastian      Prieto Garay    48\n",
       "1  Maria de las Mercedes   Rimoli Echarren    44\n",
       "2                   Pepe           Argento    58"
      ]
     },
     "execution_count": 1,
     "metadata": {},
     "output_type": "execute_result"
    }
   ],
   "source": [
    "import pandas as pd\n",
    "ruta = \"/home/patricio/Escritorio/CURSO PYTHON DALTO/0029 al ---- - Tercera Parte/0033 - archivos_planos_csv/datos.csv\"\n",
    "# codificacion = \"UTF-8\"\n",
    "archivo = pd.read_csv(ruta)\n",
    "archivo\n"
   ]
  },
  {
   "cell_type": "code",
   "execution_count": 2,
   "metadata": {},
   "outputs": [
    {
     "name": "stdout",
     "output_type": "stream",
     "text": [
      "                  nombre          apellido  edad\n",
      "0     Patricio Sebastian      Prieto Garay    48\n",
      "1  Maria de las Mercedes   Rimoli Echarren    44\n",
      "2                   Pepe           Argento    58\n"
     ]
    }
   ],
   "source": [
    "import pandas as pd\n",
    "ruta = \"/home/patricio/Escritorio/CURSO PYTHON DALTO/0029 al ---- - Tercera Parte/0033 - archivos_planos_csv/datos.csv\"\n",
    "# codificacion = \"UTF-8\"\n",
    "archivo = pd.read_csv(ruta)\n",
    "print(archivo)\n"
   ]
  }
 ],
 "metadata": {
  "kernelspec": {
   "display_name": "Python 3",
   "language": "python",
   "name": "python3"
  },
  "language_info": {
   "codemirror_mode": {
    "name": "ipython",
    "version": 3
   },
   "file_extension": ".py",
   "mimetype": "text/x-python",
   "name": "python",
   "nbconvert_exporter": "python",
   "pygments_lexer": "ipython3",
   "version": "3.12.3"
  }
 },
 "nbformat": 4,
 "nbformat_minor": 2
}
